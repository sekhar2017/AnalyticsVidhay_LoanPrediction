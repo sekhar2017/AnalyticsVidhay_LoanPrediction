{
 "cells": [
  {
   "cell_type": "code",
   "execution_count": 116,
   "metadata": {
    "collapsed": true
   },
   "outputs": [],
   "source": [
    "#Lets import required packages\n",
    "\n",
    "import pandas as pd\n",
    "import numpy as np\n",
    "\n",
    "import matplotlib.pyplot as plt\n",
    "%matplotlib inline"
   ]
  },
  {
   "cell_type": "code",
   "execution_count": 117,
   "metadata": {
    "collapsed": true
   },
   "outputs": [],
   "source": [
    "train = pd.read_csv(r'E:\\Study\\DataChallenges\\AV\\LoanPredicton\\train.csv')\n",
    "test = pd.read_csv(r'E:\\Study\\DataChallenges\\AV\\LoanPredicton\\test.csv')"
   ]
  },
  {
   "cell_type": "code",
   "execution_count": 118,
   "metadata": {
    "collapsed": false
   },
   "outputs": [
    {
     "data": {
      "text/plain": [
       "Loan_ID               0\n",
       "Gender               13\n",
       "Married               3\n",
       "Dependents           15\n",
       "Education             0\n",
       "Self_Employed        32\n",
       "ApplicantIncome       0\n",
       "CoapplicantIncome     0\n",
       "LoanAmount           22\n",
       "Loan_Amount_Term     14\n",
       "Credit_History       50\n",
       "Property_Area         0\n",
       "Loan_Status           0\n",
       "dtype: int64"
      ]
     },
     "execution_count": 118,
     "metadata": {},
     "output_type": "execute_result"
    }
   ],
   "source": [
    "train.isnull().sum()"
   ]
  },
  {
   "cell_type": "code",
   "execution_count": 119,
   "metadata": {
    "collapsed": false
   },
   "outputs": [
    {
     "data": {
      "text/plain": [
       "Loan_ID               0\n",
       "Gender               11\n",
       "Married               0\n",
       "Dependents           10\n",
       "Education             0\n",
       "Self_Employed        23\n",
       "ApplicantIncome       0\n",
       "CoapplicantIncome     0\n",
       "LoanAmount            5\n",
       "Loan_Amount_Term      6\n",
       "Credit_History       29\n",
       "Property_Area         0\n",
       "dtype: int64"
      ]
     },
     "execution_count": 119,
     "metadata": {},
     "output_type": "execute_result"
    }
   ],
   "source": [
    "test.isnull().sum()"
   ]
  },
  {
   "cell_type": "code",
   "execution_count": 120,
   "metadata": {
    "collapsed": false
   },
   "outputs": [
    {
     "name": "stdout",
     "output_type": "stream",
     "text": [
      "Count of Each Level in the training Data\n",
      "Male      489\n",
      "Female    112\n",
      "NaN        13\n",
      "Name: Gender, dtype: int64\n",
      "Count of Each Level in the test Data\n",
      "Male      286\n",
      "Female     70\n",
      "NaN        11\n",
      "Name: Gender, dtype: int64\n"
     ]
    }
   ],
   "source": [
    "#### Treating missing values\n",
    "print('Count of Each Level in the training Data')\n",
    "print(train.Gender.value_counts(dropna = False))\n",
    "\n",
    "print('Count of Each Level in the test Data')\n",
    "print(test.Gender.value_counts(dropna = False))\n",
    "\n",
    "\n",
    "#### Missing Values can be treated as unknow here\n",
    "train.Gender.fillna('unknown',inplace = True)\n",
    "test.Gender.fillna('unknown',inplace = True)"
   ]
  },
  {
   "cell_type": "code",
   "execution_count": 121,
   "metadata": {
    "collapsed": false
   },
   "outputs": [
    {
     "name": "stdout",
     "output_type": "stream",
     "text": [
      "Count of Each Level in the training Data\n",
      "0      345\n",
      "1      102\n",
      "2      101\n",
      "3+      51\n",
      "NaN     15\n",
      "Name: Dependents, dtype: int64\n",
      "Count of Each Level in the test Data\n",
      "0      200\n",
      "2       59\n",
      "1       58\n",
      "3+      40\n",
      "NaN     10\n",
      "Name: Dependents, dtype: int64\n"
     ]
    }
   ],
   "source": [
    "#### Treating missing values of Dependents\n",
    "print('Count of Each Level in the training Data')\n",
    "print(train.Dependents.value_counts(dropna = False))\n",
    "\n",
    "print('Count of Each Level in the test Data')\n",
    "print(test.Dependents.value_counts(dropna = False))\n",
    "\n",
    "\n",
    "#### Missing Values can be treated as unknow here\n",
    "train.Dependents.fillna('unknown',inplace = True)\n",
    "test.Dependents.fillna('unknown',inplace = True)"
   ]
  },
  {
   "cell_type": "code",
   "execution_count": 122,
   "metadata": {
    "collapsed": false
   },
   "outputs": [
    {
     "name": "stdout",
     "output_type": "stream",
     "text": [
      "Count of Each Level in the training Data\n",
      "No     500\n",
      "Yes     82\n",
      "NaN     32\n",
      "Name: Self_Employed, dtype: int64\n",
      "Count of Each Level in the test Data\n",
      "No     307\n",
      "Yes     37\n",
      "NaN     23\n",
      "Name: Self_Employed, dtype: int64\n"
     ]
    }
   ],
   "source": [
    "#### Treating missing values of Self_Employed\n",
    "print('Count of Each Level in the training Data')\n",
    "print(train.Self_Employed.value_counts(dropna = False))\n",
    "\n",
    "print('Count of Each Level in the test Data')\n",
    "print(test.Self_Employed.value_counts(dropna = False))\n",
    "\n",
    "\n",
    "#### Missing Values can be treated as unknow here\n",
    "train.Self_Employed.fillna('unknown',inplace = True)\n",
    "test.Self_Employed.fillna('unknown',inplace = True)"
   ]
  },
  {
   "cell_type": "code",
   "execution_count": 123,
   "metadata": {
    "collapsed": false
   },
   "outputs": [
    {
     "name": "stdout",
     "output_type": "stream",
     "text": [
      "Count of Each Level in the training Data\n",
      " 360    0.833876\n",
      " 180    0.071661\n",
      " 480    0.024430\n",
      "NaN     0.022801\n",
      " 300    0.021173\n",
      " 240    0.006515\n",
      " 84     0.006515\n",
      " 120    0.004886\n",
      " 60     0.003257\n",
      " 36     0.003257\n",
      " 12     0.001629\n",
      "Name: Loan_Amount_Term, dtype: float64\n",
      "Count of Each Level in the test Data\n",
      " 360    0.847411\n",
      " 180    0.059946\n",
      " 480    0.021798\n",
      " 300    0.019074\n",
      "NaN     0.016349\n",
      " 240    0.010899\n",
      " 84     0.008174\n",
      " 350    0.002725\n",
      " 120    0.002725\n",
      " 60     0.002725\n",
      " 36     0.002725\n",
      " 12     0.002725\n",
      " 6      0.002725\n",
      "Name: Loan_Amount_Term, dtype: float64\n"
     ]
    }
   ],
   "source": [
    "#### Treating missing values of Loan_Amount_Term\n",
    "print('Count of Each Level in the training Data')\n",
    "print(train.Loan_Amount_Term.value_counts(dropna = False)/train.shape[0])\n",
    "\n",
    "print('Count of Each Level in the test Data')\n",
    "print(test.Loan_Amount_Term.value_counts(dropna = False)/test.shape[0])\n",
    "\n",
    "\n",
    "#### Missing Values can be treated as 360 term as 83% of the values belong to that category\n",
    "train.Loan_Amount_Term.fillna(360,inplace = True)\n",
    "test.Loan_Amount_Term.fillna(360,inplace = True)"
   ]
  },
  {
   "cell_type": "code",
   "execution_count": 124,
   "metadata": {
    "collapsed": false
   },
   "outputs": [
    {
     "name": "stdout",
     "output_type": "stream",
     "text": [
      "Count of Each Level in the training Data\n",
      "Yes    0.648208\n",
      "No     0.346906\n",
      "NaN    0.004886\n",
      "Name: Married, dtype: float64\n",
      "Count of Each Level in the test Data\n",
      "Yes    0.634877\n",
      "No     0.365123\n",
      "Name: Married, dtype: float64\n"
     ]
    }
   ],
   "source": [
    "#### Treating missing values of Married Varibale\n",
    "print('Count of Each Level in the training Data')\n",
    "print(train.Married.value_counts(dropna = False)/train.shape[0])\n",
    "\n",
    "print('Count of Each Level in the test Data')\n",
    "print(test.Married.value_counts(dropna = False)/test.shape[0])\n",
    "\n",
    "\n",
    "#### The observations with missing values in married calumn can be removed as they are very less in number about 0.5%\n",
    "train = train.dropna(subset = ['Married'])"
   ]
  },
  {
   "cell_type": "code",
   "execution_count": 125,
   "metadata": {
    "collapsed": false
   },
   "outputs": [
    {
     "name": "stdout",
     "output_type": "stream",
     "text": [
      "(611, 13)\n",
      "(367, 12)\n"
     ]
    }
   ],
   "source": [
    "print(train.shape)\n",
    "print(test.shape)"
   ]
  },
  {
   "cell_type": "code",
   "execution_count": 126,
   "metadata": {
    "collapsed": false
   },
   "outputs": [
    {
     "data": {
      "text/plain": [
       "array([[<matplotlib.axes._subplots.AxesSubplot object at 0x000001E5032E5BA8>]], dtype=object)"
      ]
     },
     "execution_count": 126,
     "metadata": {},
     "output_type": "execute_result"
    },
    {
     "data": {
      "image/png": "[encoded data removed]",
      "text/plain": [
       "<matplotlib.figure.Figure at 0x1e5032e5470>"
      ]
     },
     "metadata": {},
     "output_type": "display_data"
    }
   ],
   "source": [
    "#### Treating missing values of LoanAmount Varibale\n",
    "train.hist(column = 'LoanAmount',bins = 45)"
   ]
  },
  {
   "cell_type": "code",
   "execution_count": 127,
   "metadata": {
    "collapsed": false
   },
   "outputs": [
    {
     "name": "stderr",
     "output_type": "stream",
     "text": [
      "C:\\Anaconda3\\lib\\site-packages\\ipykernel\\__main__.py:1: FutureWarning: \n",
      "The default value for 'return_type' will change to 'axes' in a future release.\n",
      " To use the future behavior now, set return_type='axes'.\n",
      " To keep the previous behavior and silence this warning, set return_type='dict'.\n",
      "  if __name__ == '__main__':\n"
     ]
    },
    {
     "data": {
      "text/plain": [
       "{'boxes': [<matplotlib.lines.Line2D at 0x1e503433828>],\n",
       " 'caps': [<matplotlib.lines.Line2D at 0x1e50343aba8>,\n",
       "  <matplotlib.lines.Line2D at 0x1e503440b00>],\n",
       " 'fliers': [<matplotlib.lines.Line2D at 0x1e503446a90>],\n",
       " 'means': [],\n",
       " 'medians': [<matplotlib.lines.Line2D at 0x1e503440c18>],\n",
       " 'whiskers': [<matplotlib.lines.Line2D at 0x1e5034339e8>,\n",
       "  <matplotlib.lines.Line2D at 0x1e50343aa90>]}"
      ]
     },
     "execution_count": 127,
     "metadata": {},
     "output_type": "execute_result"
    },
    {
     "data": {
      "image/png": "[encoded data removed]",
      "text/plain": [
       "<matplotlib.figure.Figure at 0x1e5033e4b00>"
      ]
     },
     "metadata": {},
     "output_type": "display_data"
    }
   ],
   "source": [
    "train.boxplot(column = 'LoanAmount')"
   ]
  },
  {
   "cell_type": "code",
   "execution_count": 128,
   "metadata": {
    "collapsed": true
   },
   "outputs": [],
   "source": [
    "### We can impute misisng values using the mean of the LoanAmount\n",
    "train.LoanAmount.fillna(train.LoanAmount.mean(),inplace= True)\n",
    "test.LoanAmount.fillna(test.LoanAmount.mean(),inplace= True)"
   ]
  },
  {
   "cell_type": "code",
   "execution_count": 129,
   "metadata": {
    "collapsed": true
   },
   "outputs": [],
   "source": [
    "### Lets create a new variable by adding ApplicantIncome and CoapplicantIncome\n",
    "train['Total_Income'] = train.ApplicantIncome + train.CoapplicantIncome\n",
    "test['Total_Income'] =  test.ApplicantIncome + test.CoapplicantIncome\n",
    "\n",
    "\n",
    "train['Income_Loan_Ratio'] = train.Total_Income/train.LoanAmount\n",
    "test['Income_Loan_Ratio'] = test.Total_Income/test.LoanAmount"
   ]
  },
  {
   "cell_type": "code",
   "execution_count": 130,
   "metadata": {
    "collapsed": false
   },
   "outputs": [
    {
     "data": {
      "text/plain": [
       "array([[<matplotlib.axes._subplots.AxesSubplot object at 0x000001E5020702E8>]], dtype=object)"
      ]
     },
     "execution_count": 130,
     "metadata": {},
     "output_type": "execute_result"
    },
    {
     "data": {
      "image/png": "[encoded data removed]",
      "text/plain": [
       "<matplotlib.figure.Figure at 0x1e57d400908>"
      ]
     },
     "metadata": {},
     "output_type": "display_data"
    }
   ],
   "source": [
    "\n",
    "### As the LoanAmount looks skewed, we can apply a log transfrom to the LoanAmount to make it normal\n",
    "train.hist(column = 'LoanAmount',bins = 45)"
   ]
  },
  {
   "cell_type": "code",
   "execution_count": 131,
   "metadata": {
    "collapsed": true
   },
   "outputs": [],
   "source": [
    "\n",
    "train['LoanAmount_LogTrans'] = np.log(train.LoanAmount)\n",
    "test['LoanAmount_LogTrans'] = np.log(test.LoanAmount)"
   ]
  },
  {
   "cell_type": "code",
   "execution_count": 132,
   "metadata": {
    "collapsed": false
   },
   "outputs": [
    {
     "data": {
      "text/plain": [
       "array([[<matplotlib.axes._subplots.AxesSubplot object at 0x000001E5033B3EB8>]], dtype=object)"
      ]
     },
     "execution_count": 132,
     "metadata": {},
     "output_type": "execute_result"
    },
    {
     "data": {
      "image/png": "[encoded data removed]",
      "text/plain": [
       "<matplotlib.figure.Figure at 0x1e5034de358>"
      ]
     },
     "metadata": {},
     "output_type": "display_data"
    }
   ],
   "source": [
    "train.hist(column = 'LoanAmount_LogTrans',bins = 45)"
   ]
  },
  {
   "cell_type": "code",
   "execution_count": 133,
   "metadata": {
    "collapsed": false
   },
   "outputs": [
    {
     "data": {
      "text/plain": [
       "array([[<matplotlib.axes._subplots.AxesSubplot object at 0x000001E50354F940>]], dtype=object)"
      ]
     },
     "execution_count": 133,
     "metadata": {},
     "output_type": "execute_result"
    },
    {
     "data": {
      "image/png": "[encoded data removed]",
      "text/plain": [
       "<matplotlib.figure.Figure at 0x1e5035df3c8>"
      ]
     },
     "metadata": {},
     "output_type": "display_data"
    }
   ],
   "source": [
    "train.hist(column = 'Total_Income',bins = 45)"
   ]
  },
  {
   "cell_type": "code",
   "execution_count": 150,
   "metadata": {
    "collapsed": true
   },
   "outputs": [],
   "source": [
    "# Need to apply log transform to the total_income varibale as well\n",
    "\n",
    "train['Total_Income_LogTrans'] = np.log(train.Total_Income)\n",
    "test['Total_Income_LogTrans'] = np.log(test.Total_Income)\n",
    "\n",
    "train['ApplicantIncome_LogTrans'] = np.log(train.ApplicantIncome)\n",
    "test['ApplicantIncome_LogTrans'] = np.log(test.ApplicantIncome)\n",
    "\n",
    "train['CoapplicantIncome_LogTrans'] = np.log(train.CoapplicantIncome+0.1)\n",
    "test['CoapplicantIncome_LogTrans'] = np.log(test.CoapplicantIncome+0.1)"
   ]
  },
  {
   "cell_type": "code",
   "execution_count": 135,
   "metadata": {
    "collapsed": false,
    "scrolled": true
   },
   "outputs": [
    {
     "data": {
      "text/plain": [
       "array([[<matplotlib.axes._subplots.AxesSubplot object at 0x000001E5036EDD30>]], dtype=object)"
      ]
     },
     "execution_count": 135,
     "metadata": {},
     "output_type": "execute_result"
    },
    {
     "data": {
      "image/png": "[encoded data removed]",
      "text/plain": [
       "<matplotlib.figure.Figure at 0x1e5036eb860>"
      ]
     },
     "metadata": {},
     "output_type": "display_data"
    }
   ],
   "source": [
    "train.hist(column = 'Total_Income_LogTrans',bins = 45)"
   ]
  },
  {
   "cell_type": "code",
   "execution_count": 136,
   "metadata": {
    "collapsed": false
   },
   "outputs": [
    {
     "data": {
      "text/plain": [
       "array([[<matplotlib.axes._subplots.AxesSubplot object at 0x000001E50374BDA0>]], dtype=object)"
      ]
     },
     "execution_count": 136,
     "metadata": {},
     "output_type": "execute_result"
    },
    {
     "data": {
      "image/png": "[encoded data removed]",
      "text/plain": [
       "<matplotlib.figure.Figure at 0x1e5037f44a8>"
      ]
     },
     "metadata": {},
     "output_type": "display_data"
    }
   ],
   "source": [
    "test.hist(column = 'Income_Loan_Ratio',bins = 45)"
   ]
  },
  {
   "cell_type": "code",
   "execution_count": 137,
   "metadata": {
    "collapsed": true
   },
   "outputs": [],
   "source": [
    "train['Income_Loan_Ratio_LogTrans'] = np.log(train.Income_Loan_Ratio)\n",
    "test['Income_Loan_Ratio_LogTrans'] = np.log(test.Income_Loan_Ratio)"
   ]
  },
  {
   "cell_type": "code",
   "execution_count": 138,
   "metadata": {
    "collapsed": false
   },
   "outputs": [
    {
     "data": {
      "text/plain": [
       "array([[<matplotlib.axes._subplots.AxesSubplot object at 0x000001E5038E3F28>]], dtype=object)"
      ]
     },
     "execution_count": 138,
     "metadata": {},
     "output_type": "execute_result"
    },
    {
     "data": {
      "image/png": "[encoded data removed]",
      "text/plain": [
       "<matplotlib.figure.Figure at 0x1e5038fc400>"
      ]
     },
     "metadata": {},
     "output_type": "display_data"
    }
   ],
   "source": [
    "test.hist(column = 'Income_Loan_Ratio_LogTrans',bins = 45)"
   ]
  },
  {
   "cell_type": "code",
   "execution_count": 151,
   "metadata": {
    "collapsed": true
   },
   "outputs": [],
   "source": [
    "Target = train.Loan_Status\n",
    "test_id = test.Loan_ID\n",
    "\n",
    "col_names = ['Gender', 'Married', 'Dependents', 'Education','Self_Employed', \n",
    "             'ApplicantIncome_LogTrans', 'CoapplicantIncome_LogTrans', 'LoanAmount_LogTrans','Loan_Amount_Term', \n",
    "             'Credit_History', 'Property_Area','Total_Income_LogTrans','Income_Loan_Ratio_LogTrans']"
   ]
  },
  {
   "cell_type": "code",
   "execution_count": 152,
   "metadata": {
    "collapsed": true
   },
   "outputs": [],
   "source": [
    "import pandas as pd\n",
    "from sklearn.preprocessing import LabelEncoder\n",
    "from sklearn.pipeline import Pipeline\n",
    "\n",
    "class MultiColumnLabelEncoder:\n",
    "    def __init__(self,columns = None):\n",
    "        self.columns = columns # array of column names to encode\n",
    "\n",
    "    def fit(self,X,y=None):\n",
    "        return self # not relevant here\n",
    "\n",
    "    def transform(self,X):\n",
    "        '''\n",
    "        Transforms columns of X specified in self.columns using\n",
    "        LabelEncoder(). If no columns specified, transforms all\n",
    "        columns in X.\n",
    "        '''\n",
    "        output = X.copy()\n",
    "        if self.columns is not None:\n",
    "            for col in self.columns:\n",
    "                if output[col].dtypes == 'object' :\n",
    "                    output[col] = LabelEncoder().fit_transform(output[col])\n",
    "        else:\n",
    "            for colname,col in output.iteritems():\n",
    "                if output[colname].dtypes == 'object' :\n",
    "                    output[colname] = LabelEncoder().fit_transform(col)\n",
    "        return output\n",
    "\n",
    "    def fit_transform(self,X,y=None):\n",
    "        return self.fit(X,y).transform(X)"
   ]
  },
  {
   "cell_type": "code",
   "execution_count": 162,
   "metadata": {
    "collapsed": true
   },
   "outputs": [],
   "source": [
    "train_fin = MultiColumnLabelEncoder(columns = col_names).fit_transform(train)\n",
    "test_fin = MultiColumnLabelEncoder(columns = col_names).fit_transform(test)\n",
    "\n",
    "cols = ['Gender', 'Married', 'Dependents', 'Education','Self_Employed', \n",
    "             'ApplicantIncome_LogTrans', 'CoapplicantIncome_LogTrans', 'LoanAmount_LogTrans','Loan_Amount_Term', \n",
    "              'Property_Area','Total_Income_LogTrans','Income_Loan_Ratio_LogTrans']"
   ]
  },
  {
   "cell_type": "code",
   "execution_count": 171,
   "metadata": {
    "collapsed": false
   },
   "outputs": [],
   "source": [
    "CHTrain_Train = train_fin.dropna(subset = ['Credit_History'])\n",
    "CHTest_Train = train[train_fin.Credit_History.isnull()]\n",
    "\n",
    "x = CHTrain_Train[cols]\n",
    "y = CHTrain_Train.Credit_History\n",
    "id = CHTest_Train['Loan_ID']"
   ]
  },
  {
   "cell_type": "code",
   "execution_count": 206,
   "metadata": {
    "collapsed": false
   },
   "outputs": [],
   "source": [
    "CHTest_Train  =  MultiColumnLabelEncoder(columns = cols).fit_transform(CHTest_Train)\n",
    "CHTest_Train_col = CHTest_Train[cols]"
   ]
  },
  {
   "cell_type": "code",
   "execution_count": 196,
   "metadata": {
    "collapsed": false
   },
   "outputs": [],
   "source": [
    "from sklearn.neighbors import KNeighborsClassifier\n",
    "from sklearn.linear_model import LinearRegression,LogisticRegression\n",
    "from sklearn.ensemble import RandomForestClassifier\n",
    "from sklearn.cross_validation import train_test_split,cross_val_score\n",
    "from sklearn.grid_search import GridSearchCV,RandomizedSearchCV\n",
    "from sklearn import metrics"
   ]
  },
  {
   "cell_type": "code",
   "execution_count": 188,
   "metadata": {
    "collapsed": false
   },
   "outputs": [
    {
     "data": {
      "text/plain": [
       "GridSearchCV(cv=10, error_score='raise',\n",
       "       estimator=KNeighborsClassifier(algorithm='auto', leaf_size=30, metric='minkowski',\n",
       "           metric_params=None, n_jobs=1, n_neighbors=5, p=2,\n",
       "           weights='uniform'),\n",
       "       fit_params={}, iid=True, n_jobs=-1,\n",
       "       param_grid={'weights': ['uniform', 'distance'], 'n_neighbors': [1, 2, 3, 4, 5, 6, 7, 8, 9, 10, 11, 12, 13, 14, 15, 16, 17, 18, 19, 20, 21, 22, 23, 24, 25, 26, 27, 28, 29, 30, 31, 32, 33, 34, 35, 36, 37, 38, 39]},\n",
       "       pre_dispatch='2*n_jobs', refit=True, scoring='accuracy', verbose=0)"
      ]
     },
     "execution_count": 188,
     "metadata": {},
     "output_type": "execute_result"
    }
   ],
   "source": [
    "knn = KNeighborsClassifier()\n",
    "grid_param = {'n_neighbors':list(range(1,40)),'weights':['uniform','distance']}\n",
    "\n",
    "grid_knn = GridSearchCV(knn,grid_param,cv = 10, n_jobs = -1,scoring = 'accuracy')\n",
    "grid_knn.fit(x,y)"
   ]
  },
  {
   "cell_type": "code",
   "execution_count": 191,
   "metadata": {
    "collapsed": false
   },
   "outputs": [
    {
     "data": {
      "text/plain": [
       "0.84135472370766484"
      ]
     },
     "execution_count": 191,
     "metadata": {},
     "output_type": "execute_result"
    }
   ],
   "source": [
    "grid_knn.best_score_"
   ]
  },
  {
   "cell_type": "code",
   "execution_count": 192,
   "metadata": {
    "collapsed": false
   },
   "outputs": [
    {
     "data": {
      "text/plain": [
       "RandomizedSearchCV(cv=10, error_score='raise',\n",
       "          estimator=RandomForestClassifier(bootstrap=True, class_weight=None, criterion='gini',\n",
       "            max_depth=None, max_features='auto', max_leaf_nodes=None,\n",
       "            min_samples_leaf=1, min_samples_split=2,\n",
       "            min_weight_fraction_leaf=0.0, n_estimators=10, n_jobs=1,\n",
       "            oob_score=False, random_state=None, verbose=0,\n",
       "            warm_start=False),\n",
       "          fit_params={}, iid=True, n_iter=10, n_jobs=-1,\n",
       "          param_distributions={'criterion': ['gini', 'entropy'], 'n_estimators': [100, 150, 200, 250, 300, 350, 400, 450, 500, 550, 600, 650, 700, 750, 800, 850, 900, 950], 'bootstrap': [True, False], 'min_samples_split': [1, 3, 10], 'max_features': ['auto', 'sqrt', 'log2'], 'min_samples_leaf': [1, 10, 20]},\n",
       "          pre_dispatch='2*n_jobs', random_state=None, refit=True,\n",
       "          scoring='accuracy', verbose=0)"
      ]
     },
     "execution_count": 192,
     "metadata": {},
     "output_type": "execute_result"
    }
   ],
   "source": [
    "RF = RandomForestClassifier()\n",
    "grid_rf_param  = { \"n_estimators\" : list(range(100,1000,50)) ,\n",
    "                  \"bootstrap\": [True, False],\n",
    "                  \"min_samples_split\": [1, 3, 10],\n",
    "                  \"min_samples_leaf\": [1,10,20],\n",
    "                  \"criterion\": [\"gini\", \"entropy\"],\n",
    "                  \"max_features\": ['auto',\"sqrt\",\"log2\"]}\n",
    "grid_rf = RandomizedSearchCV(RF,grid_rf_param,cv = 10, n_jobs = -1 , scoring= 'accuracy')\n",
    "grid_rf.fit(x,y)"
   ]
  },
  {
   "cell_type": "code",
   "execution_count": 193,
   "metadata": {
    "collapsed": false
   },
   "outputs": [
    {
     "data": {
      "text/plain": [
       "0.84135472370766484"
      ]
     },
     "execution_count": 193,
     "metadata": {},
     "output_type": "execute_result"
    }
   ],
   "source": [
    "grid_rf.best_score_"
   ]
  },
  {
   "cell_type": "code",
   "execution_count": 198,
   "metadata": {
    "collapsed": false
   },
   "outputs": [
    {
     "name": "stdout",
     "output_type": "stream",
     "text": [
      "[ 0.84210526  0.84210526  0.83928571  0.83928571  0.83928571  0.83928571\n",
      "  0.83928571  0.83928571  0.83928571  0.85454545]\n",
      "0.841375598086\n"
     ]
    }
   ],
   "source": [
    "logreg = LogisticRegression()\n",
    "scores = cross_val_score(logreg,x,y,cv=10,n_jobs = -1,scoring = 'accuracy')\n",
    "print(scores)\n",
    "print(scores.mean())"
   ]
  },
  {
   "cell_type": "code",
   "execution_count": 208,
   "metadata": {
    "collapsed": false
   },
   "outputs": [
    {
     "data": {
      "text/plain": [
       "array([ 1.,  1.,  1.,  1.,  1.,  1.,  1.,  1.,  1.,  1.,  1.,  1.,  1.,\n",
       "        1.,  1.,  1.,  1.,  1.,  1.,  1.,  1.,  1.,  1.,  1.,  1.,  1.,\n",
       "        1.,  1.,  1.,  1.,  1.,  1.,  1.,  1.,  1.,  1.,  1.,  1.,  1.,\n",
       "        1.,  1.,  1.,  1.,  1.,  1.,  1.,  1.,  1.,  1.,  1.])"
      ]
     },
     "execution_count": 208,
     "metadata": {},
     "output_type": "execute_result"
    }
   ],
   "source": [
    "logreg.fit(x,y)\n",
    "\n",
    "logreg.predict(CHTest_Train_col)"
   ]
  },
  {
   "cell_type": "code",
   "execution_count": 209,
   "metadata": {
    "collapsed": false
   },
   "outputs": [
    {
     "data": {
      "text/plain": [
       "array([ 1.,  1.,  1.,  1.,  1.,  1.,  1.,  1.,  1.,  1.,  1.,  1.,  1.,\n",
       "        1.,  1.,  1.,  1.,  1.,  1.,  1.,  1.,  1.,  1.,  1.,  1.,  1.,\n",
       "        1.,  1.,  1.,  1.,  1.,  1.,  1.,  1.,  1.,  1.,  1.,  1.,  1.,\n",
       "        1.,  1.,  1.,  1.,  1.,  1.,  1.,  1.,  1.,  1.,  1.])"
      ]
     },
     "execution_count": 209,
     "metadata": {},
     "output_type": "execute_result"
    }
   ],
   "source": [
    "grid_knn.predict(CHTest_Train_col)"
   ]
  },
  {
   "cell_type": "code",
   "execution_count": 218,
   "metadata": {
    "collapsed": false
   },
   "outputs": [],
   "source": [
    "train_fin.Credit_History.fillna(1,inplace=True)\n",
    "test_fin.Credit_History.fillna(1,inplace=True)"
   ]
  },
  {
   "cell_type": "code",
   "execution_count": 220,
   "metadata": {
    "collapsed": false
   },
   "outputs": [],
   "source": [
    "x = train_fin[col_names]\n",
    "y = train_fin.Loan_Status\n",
    "x_test = test_fin[col_names]"
   ]
  },
  {
   "cell_type": "code",
   "execution_count": 221,
   "metadata": {
    "collapsed": false
   },
   "outputs": [
    {
     "name": "stdout",
     "output_type": "stream",
     "text": [
      "[ 0.79032258  0.82258065  0.78688525  0.75409836  0.78688525  0.78688525\n",
      "  0.86885246  0.85245902  0.80327869  0.83333333]\n",
      "0.808558082143\n"
     ]
    }
   ],
   "source": [
    "### Logistic\n",
    "logreg = LogisticRegression()\n",
    "scores = cross_val_score(logreg,x,y,cv=10,n_jobs = -1,scoring = 'accuracy')\n",
    "print(scores)\n",
    "print(scores.mean())"
   ]
  },
  {
   "cell_type": "code",
   "execution_count": 227,
   "metadata": {
    "collapsed": false
   },
   "outputs": [
    {
     "name": "stdout",
     "output_type": "stream",
     "text": [
      "RandomForestClassifier(bootstrap=False, class_weight=None, criterion='gini',\n",
      "            max_depth=None, max_features='auto', max_leaf_nodes=None,\n",
      "            min_samples_leaf=20, min_samples_split=10,\n",
      "            min_weight_fraction_leaf=0.0, n_estimators=800, n_jobs=1,\n",
      "            oob_score=False, random_state=None, verbose=0,\n",
      "            warm_start=False)\n",
      "0.810147299509\n"
     ]
    }
   ],
   "source": [
    "RF = RandomForestClassifier()\n",
    "grid_rf_param  = { \"n_estimators\" : list(range(100,1000,100)) ,\n",
    "                  \"bootstrap\": [True, False],\n",
    "                  \"min_samples_split\": [1, 3, 10],\n",
    "                  \"min_samples_leaf\": [1,10,20],\n",
    "                  \"criterion\": [\"gini\", \"entropy\"],\n",
    "                  \"max_features\": ['auto',\"sqrt\",\"log2\"]}\n",
    "grid_rf = RandomizedSearchCV(RF,grid_rf_param,cv = 10, n_jobs = -1 , scoring= 'accuracy')\n",
    "grid_rf.fit(x,y)\n",
    "\n",
    "print(grid_rf.best_estimator_)\n",
    "print(grid_rf.best_score_)"
   ]
  },
  {
   "cell_type": "code",
   "execution_count": 224,
   "metadata": {
    "collapsed": false
   },
   "outputs": [
    {
     "data": {
      "text/plain": [
       "Gender                        0.000921\n",
       "Married                       0.019767\n",
       "Dependents                    0.017203\n",
       "Education                     0.009175\n",
       "Self_Employed                 0.000677\n",
       "ApplicantIncome_LogTrans      0.056714\n",
       "CoapplicantIncome_LogTrans    0.032600\n",
       "LoanAmount_LogTrans           0.061332\n",
       "Loan_Amount_Term              0.003258\n",
       "Credit_History                0.571013\n",
       "Property_Area                 0.030973\n",
       "Total_Income_LogTrans         0.074609\n",
       "Income_Loan_Ratio_LogTrans    0.121757\n",
       "dtype: float64"
      ]
     },
     "execution_count": 224,
     "metadata": {},
     "output_type": "execute_result"
    }
   ],
   "source": [
    "pd.Series(RF.feature_importances_,col_names)"
   ]
  },
  {
   "cell_type": "code",
   "execution_count": 232,
   "metadata": {
    "collapsed": true
   },
   "outputs": [],
   "source": [
    "new_col_names = ['LoanAmount_LogTrans',\n",
    "             'Credit_History', 'Property_Area','Total_Income_LogTrans','Income_Loan_Ratio_LogTrans']\n",
    "x = train_fin[new_col_names]\n",
    "y = train_fin.Loan_Status\n",
    "x_test = test_fin[new_col_names]"
   ]
  },
  {
   "cell_type": "code",
   "execution_count": 233,
   "metadata": {
    "collapsed": false
   },
   "outputs": [
    {
     "name": "stdout",
     "output_type": "stream",
     "text": [
      "[ 0.79032258  0.82258065  0.7704918   0.75409836  0.78688525  0.78688525\n",
      "  0.83606557  0.85245902  0.7704918   0.83333333]\n",
      "0.800361360832\n"
     ]
    }
   ],
   "source": [
    "### Logistic\n",
    "logreg = LogisticRegression()\n",
    "scores = cross_val_score(logreg,x,y,cv=10,n_jobs = -1,scoring = 'accuracy')\n",
    "print(scores)\n",
    "print(scores.mean())"
   ]
  },
  {
   "cell_type": "code",
   "execution_count": 234,
   "metadata": {
    "collapsed": false
   },
   "outputs": [
    {
     "name": "stdout",
     "output_type": "stream",
     "text": [
      "RandomForestClassifier(bootstrap=True, class_weight=None, criterion='gini',\n",
      "            max_depth=None, max_features='log2', max_leaf_nodes=None,\n",
      "            min_samples_leaf=10, min_samples_split=3,\n",
      "            min_weight_fraction_leaf=0.0, n_estimators=100, n_jobs=1,\n",
      "            oob_score=False, random_state=None, verbose=0,\n",
      "            warm_start=False)\n",
      "0.81178396072\n"
     ]
    }
   ],
   "source": [
    "RF = RandomForestClassifier()\n",
    "grid_rf_param  = { \"n_estimators\" : list(range(100,1000,100)) ,\n",
    "                  \"bootstrap\": [True, False],\n",
    "                  \"min_samples_split\": [1, 3, 10],\n",
    "                  \"min_samples_leaf\": [1,3,10],\n",
    "                  \"criterion\": [\"gini\", \"entropy\"],\n",
    "                  \"max_features\": ['auto',\"sqrt\",\"log2\"]}\n",
    "grid_rf = RandomizedSearchCV(RF,grid_rf_param,cv = 10, n_jobs = -1 , scoring= 'accuracy')\n",
    "grid_rf.fit(x,y)\n",
    "\n",
    "print(grid_rf.best_estimator_)\n",
    "print(grid_rf.best_score_)"
   ]
  },
  {
   "cell_type": "code",
   "execution_count": 236,
   "metadata": {
    "collapsed": false
   },
   "outputs": [],
   "source": [
    "pred = []\n",
    "for i in grid_rf.predict(x_test):\n",
    "    if i==1:\n",
    "        pred.append(\"Y\")\n",
    "    else:\n",
    "        pred.append(\"N\")\n",
    "        \n",
    "pd.DataFrame({'Loan_ID':test_id,'Loan_Status':pred}).to_csv(r'E:\\Study\\DataChallenges\\AV\\submission6.csv')"
   ]
  },
  {
   "cell_type": "code",
   "execution_count": null,
   "metadata": {
    "collapsed": true
   },
   "outputs": [],
   "source": []
  }
 ],
 "metadata": {
  "kernelspec": {
   "display_name": "Python 3",
   "language": "python",
   "name": "python3"
  },
  "language_info": {
   "codemirror_mode": {
    "name": "ipython",
    "version": 3
   },
   "file_extension": ".py",
   "mimetype": "text/x-python",
   "name": "python",
   "nbconvert_exporter": "python",
   "pygments_lexer": "ipython3",
   "version": "3.5.1"
  }
 },
 "nbformat": 4,
 "nbformat_minor": 0
}
